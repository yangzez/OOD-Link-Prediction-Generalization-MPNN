{
 "cells": [
  {
   "cell_type": "code",
   "execution_count": 380,
   "id": "c2ef5f4a",
   "metadata": {},
   "outputs": [],
   "source": [
    "import os.path as osp\n",
    "import torch\n",
    "import torch.nn.functional as F\n",
    "from torch_geometric.nn import GCNConv\n",
    "from torch_geometric.nn import SAGEConv\n",
    "from torch_geometric.nn import GINConv\n",
    "from torch_geometric.datasets import Planetoid, WikiCS\n",
    "import torch_geometric.transforms as T\n",
    "import matplotlib.pyplot as plt\n",
    "from torch_geometric.utils import from_networkx\n",
    "import random\n",
    "from torch_sparse import SparseTensor\n",
    "import networkx as nx"
   ]
  },
  {
   "cell_type": "code",
   "execution_count": 381,
   "id": "8800509d",
   "metadata": {},
   "outputs": [],
   "source": [
    "device = 'cuda' if torch.cuda.is_available() else 'cpu'"
   ]
  },
  {
   "cell_type": "code",
   "execution_count": 228,
   "id": "27f322ed",
   "metadata": {},
   "outputs": [],
   "source": [
    "class SAGE(torch.nn.Module):\n",
    "    def __init__(self, in_channels, hidden_channels, out_channels, num_layers,\n",
    "                 dropout):\n",
    "        super(SAGE, self).__init__()\n",
    "\n",
    "        self.convs = torch.nn.ModuleList()\n",
    "        self.convs.append(SAGEConv(in_channels, hidden_channels))\n",
    "        for _ in range(num_layers - 2):\n",
    "            self.convs.append(SAGEConv(hidden_channels, hidden_channels))\n",
    "        self.convs.append(SAGEConv(hidden_channels, out_channels))\n",
    "\n",
    "        self.dropout = dropout\n",
    "\n",
    "    def reset_parameters(self):\n",
    "        for conv in self.convs:\n",
    "            conv.reset_parameters()\n",
    "\n",
    "    def forward(self, x, adj_t):\n",
    "        i = 0\n",
    "        for conv in self.convs[:-1]:\n",
    "            x = conv(x, adj_t)\n",
    "            x = F.relu(x)\n",
    "            i += 1\n",
    "        x = self.convs[-1](x, adj_t)\n",
    "        return x"
   ]
  },
  {
   "cell_type": "code",
   "execution_count": 231,
   "id": "24c8c6a6",
   "metadata": {},
   "outputs": [],
   "source": [
    "model = SAGE(1,5,5,3,0).to(device)\n",
    "torch.manual_seed(99)\n",
    "model.reset_parameters()"
   ]
  },
  {
   "cell_type": "code",
   "execution_count": 232,
   "id": "5a89dd8b",
   "metadata": {},
   "outputs": [],
   "source": [
    "n=2\n",
    "sizes = [45*n, 10*n, 45*n]\n",
    "probs = [[0.55, 0.05, 0.02], [0.05, 0.55, 0.05], [0.02, 0.05, 0.55]]\n",
    "g = nx.stochastic_block_model(sizes, probs, seed=1)\n",
    "data = from_networkx(g)\n",
    "num_nodes = g.number_of_nodes()\n",
    "data.x = torch.zeros(num_nodes, 1)\n",
    "for i in range(num_nodes):\n",
    "    data.x[i] = g.degree[i]/num_nodes\n",
    "data.x = data.x.to(device)\n",
    "adj = SparseTensor(row=data.edge_index[0], col=data.edge_index[1],sparse_sizes=(num_nodes, num_nodes))\n",
    "adj_t = adj.t().to(device)\n",
    "out_1 = model(data.x, adj_t)"
   ]
  },
  {
   "cell_type": "code",
   "execution_count": 233,
   "id": "7f3f649f",
   "metadata": {},
   "outputs": [],
   "source": [
    "n=20\n",
    "sizes = [45*n, 10*n, 45*n]\n",
    "#probs = [[0.55, 0.005, 0.002], [0.005, 0.55, 0.005], [0.002, 0.005, 0.55]]\n",
    "probs = [[0.55, 0.05, 0.02], [0.05, 0.55, 0.05], [0.02, 0.05, 0.55]]\n",
    "g = nx.stochastic_block_model(sizes, probs, seed=0)\n",
    "data = from_networkx(g)\n",
    "num_nodes = g.number_of_nodes()\n",
    "data.x = torch.zeros(num_nodes, 1)\n",
    "for i in range(num_nodes):\n",
    "    data.x[i] = g.degree[i]/num_nodes\n",
    "data.x = data.x.to(device)\n",
    "#data.x[:(45*n)] = 0.5*0.45+0.05*0.1+0.45*0.02\n",
    "#data.x[(55*n):] = 0.5*0.45+0.05*0.1+0.45*0.02\n",
    "#data.x[(45*n):(55*n)] = 0.05*0.45*2+0.65*0.1\n",
    "adj = SparseTensor(row=data.edge_index[0], col=data.edge_index[1],sparse_sizes=(num_nodes, num_nodes))\n",
    "adj_t = adj.t().to(device)\n",
    "out_2 = model(data.x, adj_t)"
   ]
  },
  {
   "cell_type": "code",
   "execution_count": 235,
   "id": "15a7107f",
   "metadata": {},
   "outputs": [],
   "source": [
    "n=200\n",
    "sizes = [45*n, 10*n, 45*n]\n",
    "probs = [[0.55, 0.05, 0.02], [0.05, 0.55, 0.05], [0.02, 0.05, 0.55]]\n",
    "g = nx.stochastic_block_model(sizes, probs, seed=0)\n",
    "data = from_networkx(g)\n",
    "num_nodes = g.number_of_nodes()\n",
    "data.x = torch.zeros(num_nodes, 1)\n",
    "for i in range(num_nodes):\n",
    "    data.x[i] = g.degree[i]/num_nodes\n",
    "#data.x[:(45*n)] = 0.5*0.45+0.05*0.1+0.45*0.02\n",
    "#data.x[(55*n):] = 0.5*0.45+0.05*0.1+0.45*0.02\n",
    "#data.x[(45*n):(55*n)] = 0.05*0.45*2+0.65*0.1\n",
    "data.x = data.x.to(device)\n",
    "adj = SparseTensor(row=data.edge_index[0], col=data.edge_index[1],sparse_sizes=(num_nodes, num_nodes))\n",
    "adj_t = adj.t().to(device)\n",
    "out_3 = model(data.x, adj_t)"
   ]
  },
  {
   "cell_type": "code",
   "execution_count": 237,
   "id": "94ecc781",
   "metadata": {},
   "outputs": [],
   "source": [
    "i = 0\n",
    "j = 0\n",
    "x = torch.tensor([0.2615,0.1]).to(device) # is the d_W for different blocks in the given SBM\n",
    "x = x.reshape(1,-1)\n",
    "#x = data.x\n",
    "for param in model.parameters():\n",
    "    if i==0:\n",
    "        nei = x\n",
    "        nei_1 = (nei[:,0]*0.2565+nei[:,1]*0.005).reshape(-1,1)/0.2615\n",
    "        nei_2 = (nei[:,0]*0.045+nei[:,1]*0.055).reshape(-1,1)/0.1\n",
    "        nei = torch.cat((nei_1,nei_2),dim=1)\n",
    "        nei = torch.matmul(param,nei)\n",
    "        x_new = nei\n",
    "        i += 1\n",
    "    elif i==1:\n",
    "        b = param.reshape(-1,1)\n",
    "        x_new = x_new+b\n",
    "        i += 1\n",
    "    elif i==2:\n",
    "        x = x_new+torch.matmul(param,x)\n",
    "        j += 1\n",
    "        if not j==3:\n",
    "            x = F.relu(x)\n",
    "            #x = x\n",
    "        i = 0\n",
    "out_c = x.t()"
   ]
  },
  {
   "cell_type": "code",
   "execution_count": 242,
   "id": "6b35e28d",
   "metadata": {},
   "outputs": [],
   "source": [
    "n = 2\n",
    "out_c1 = torch.cat((out_c[0].repeat(45*n,1), out_c[1].repeat(10*n,1), out_c[0].repeat(45*n,1)),dim=0)\n",
    "diff = out_1-out_c1\n",
    "val, ind = torch.max(torch.abs(out_1-out_c1),dim=1)\n",
    "diff_1 = torch.ones(100*n)\n",
    "for i in range(100*n):\n",
    "    diff_1[i] = diff[i][ind[i]]\n",
    "#print(torch.max(val))"
   ]
  },
  {
   "cell_type": "code",
   "execution_count": 243,
   "id": "7450ff1b",
   "metadata": {},
   "outputs": [],
   "source": [
    "n = 20\n",
    "out_c2 = torch.cat((out_c[0].repeat(45*n,1), out_c[1].repeat(10*n,1), out_c[0].repeat(45*n,1)),dim=0)\n",
    "diff = out_2-out_c2\n",
    "val, ind = torch.max(torch.abs(out_2-out_c2),dim=1)\n",
    "diff_2 = torch.ones(100*n)\n",
    "for i in range(100*n):\n",
    "    diff_2[i] = diff[i][ind[i]]\n",
    "#print(torch.max(val))"
   ]
  },
  {
   "cell_type": "code",
   "execution_count": 244,
   "id": "4d4a1caa",
   "metadata": {},
   "outputs": [],
   "source": [
    "n = 200\n",
    "out_c3 = torch.cat((out_c[0].repeat(45*n,1), out_c[1].repeat(10*n,1), out_c[0].repeat(45*n,1)),dim=0)\n",
    "diff = out_3-out_c3\n",
    "val, ind = torch.max(torch.abs(out_3-out_c3),dim=1)\n",
    "diff_3 = torch.ones(100*n)\n",
    "for i in range(100*n):\n",
    "    diff_3[i] = diff[i][ind[i]]\n",
    "#print(torch.max(val))"
   ]
  },
  {
   "cell_type": "code",
   "execution_count": null,
   "id": "d777d932",
   "metadata": {},
   "outputs": [],
   "source": [
    "import matplotlib \n",
    "plt.rcParams.update({'font.size': 14})\n",
    "nodes_nums = [2**5, 2**6, 2**7, 2**8, 2**9, 2**10, 2**11, 2**12, 2**13]\n",
    "matplotlib.rc('xtick', labelsize=10) \n",
    "matplotlib.rc('ytick', labelsize=10) \n",
    "plt.plot(np.log10(nodes_nums),np.log10(l1error.detach().numpy()))\n",
    "plt.xlabel(r'$log_{10}(N^{te})$')\n",
    "plt.ylabel(r'$\\log_{10}(\\delta^{\\bullet}_{A-W})$')\n",
    "plt.title('(a)')\n",
    "plt.legend(['slope: -0.470'])\n",
    "plt.savefig('conv-gmpnn.pdf', format='pdf')"
   ]
  },
  {
   "cell_type": "code",
   "execution_count": 353,
   "id": "aac0c881",
   "metadata": {},
   "outputs": [
    {
     "data": {
      "image/png": "[encoded data removed]",
      "text/plain": [
       "<Figure size 360x360 with 1 Axes>"
      ]
     },
     "metadata": {
      "needs_background": "light"
     },
     "output_type": "display_data"
    }
   ],
   "source": [
    "import matplotlib \n",
    "fig = plt.figure(figsize=(5,5))\n",
    "plt.rcParams.update({'font.size': 15})\n",
    "plt.rc('axes', titlesize=20)\n",
    "plt.rc('axes', labelsize=25) \n",
    "matplotlib.rc('xtick', labelsize=13)\n",
    "matplotlib.rc('ytick', labelsize=13)\n",
    "plt.rc('legend', fontsize=13) \n",
    "plt.hist(diff_1.detach().numpy(),density=True,bins=15)\n",
    "plt.hist(diff_2.detach().numpy(),density=True,bins=15)\n",
    "plt.hist(diff_3.detach().numpy(),density=True,bins=15)\n",
    "plt.ticklabel_format(style='sci', axis='x', scilimits=(0,0))\n",
    "plt.xlim([-0.008,0.008])\n",
    "plt.title('(d)')\n",
    "plt.xlabel(r'$\\Delta^\\bullet_{A-W}$')\n",
    "plt.legend([r'$N^{te}=200$',r'$N^{te}=2000$',r'$N^{te}=20000$'])\n",
    "plt.tight_layout()\n",
    "plt.savefig('conv.pdf', format='pdf')\n",
    "plt.show() "
   ]
  },
  {
   "cell_type": "code",
   "execution_count": 260,
   "id": "f7cfa694",
   "metadata": {},
   "outputs": [],
   "source": [
    "n = 2\n",
    "diff_1iso = torch.zeros(45*45*n*n,1)\n",
    "k = 0\n",
    "for i in range(45*n):\n",
    "    for j in range(55*n,100*n):\n",
    "        val, ind = torch.max(torch.abs(out_1[i]-out_1[j]),dim=0)\n",
    "        diff_1iso[k] = (out_1[i]-out_1[j])[ind]\n",
    "        k += 1"
   ]
  },
  {
   "cell_type": "code",
   "execution_count": 261,
   "id": "1da8027c",
   "metadata": {},
   "outputs": [],
   "source": [
    "n = 20\n",
    "indice = random.sample(range(45*45*n*n), 100000)\n",
    "indice = torch.tensor(indice)\n",
    "id_b1 = indice.div(45*n, rounding_mode=\"floor\")\n",
    "id_b2 = torch.remainder(indice,45*n)\n",
    "diff = out_2[id_b1]-out_2[id_b2+55*n]\n",
    "diff_2iso = torch.ones(100000)\n",
    "val, ind = torch.max(torch.abs(diff),dim=1)\n",
    "for i in range(100000):\n",
    "    diff_2iso[i] = diff[i][ind[i]]"
   ]
  },
  {
   "cell_type": "code",
   "execution_count": 262,
   "id": "898829df",
   "metadata": {},
   "outputs": [],
   "source": [
    "n = 200\n",
    "indice = random.sample(range(45*45*n*n), 100000)\n",
    "indice = torch.tensor(indice)\n",
    "id_b1 = indice.div(45*n, rounding_mode=\"floor\")\n",
    "id_b2 = torch.remainder(indice,45*n)\n",
    "diff = out_3[id_b1]-out_3[id_b2+55*n]\n",
    "diff_3iso = torch.ones(100000)\n",
    "val, ind = torch.max(torch.abs(diff),dim=1)\n",
    "for i in range(100000):\n",
    "    diff_3iso[i] = diff[i][ind[i]]"
   ]
  },
  {
   "cell_type": "code",
   "execution_count": 372,
   "id": "20a09441",
   "metadata": {},
   "outputs": [
    {
     "data": {
      "image/png": "[encoded data removed]",
      "text/plain": [
       "<Figure size 360x360 with 1 Axes>"
      ]
     },
     "metadata": {
      "needs_background": "light"
     },
     "output_type": "display_data"
    }
   ],
   "source": [
    "fig = plt.figure(figsize=(5,5))\n",
    "plt.rcParams.update({'font.size': 15})\n",
    "plt.rc('axes', titlesize=20)\n",
    "plt.rc('axes', labelsize=25) \n",
    "matplotlib.rc('xtick', labelsize=13)\n",
    "matplotlib.rc('ytick', labelsize=13)\n",
    "plt.rc('legend', fontsize=13) \n",
    "plt.hist(diff_1iso.detach().numpy(),density=True,bins=14)\n",
    "plt.hist(diff_2iso.detach().numpy(),density=True,bins=14)\n",
    "plt.hist(diff_3iso.detach().numpy(),density=True,bins=14)\n",
    "plt.ticklabel_format(style='sci', axis='x', scilimits=(0,0))\n",
    "plt.xlim([-0.01,0.01])\n",
    "plt.title('(e)')\n",
    "plt.xlabel(r'$\\Delta^\\bullet_{iso}$')\n",
    "plt.legend([r'$N^{te}$=200',r'$N^{te}$=2000',r'$N^{te}$=20000'])\n",
    "plt.tight_layout()\n",
    "plt.savefig('conv-iso.pdf', format='pdf')\n",
    "plt.show() "
   ]
  },
  {
   "cell_type": "code",
   "execution_count": 271,
   "id": "51f52d4f",
   "metadata": {},
   "outputs": [],
   "source": [
    "n = 2\n",
    "diff_1no_iso = torch.zeros(45*10*n*n,1)\n",
    "k = 0\n",
    "for i in range(45*n):\n",
    "    for j in range(45*n,55*n):\n",
    "        val, ind = torch.max(torch.abs(out_1[i]-out_1[j]),dim=0)\n",
    "        diff_1no_iso[k] = (out_1[i]-out_1[j])[ind]\n",
    "        k += 1"
   ]
  },
  {
   "cell_type": "code",
   "execution_count": 272,
   "id": "fb993270",
   "metadata": {},
   "outputs": [],
   "source": [
    "n = 20\n",
    "indice = random.sample(range(45*10*n*n), 100000)\n",
    "indice = torch.tensor(indice)\n",
    "id_b1 = indice.div(10*n, rounding_mode=\"floor\")\n",
    "id_b2 = torch.remainder(indice,10*n)\n",
    "diff = out_2[id_b1]-out_2[id_b2+45*n]\n",
    "diff_2no_iso = torch.ones(100000)\n",
    "val, ind = torch.max(torch.abs(diff),dim=1)\n",
    "for i in range(100000):\n",
    "    diff_2no_iso[i] = diff[i][ind[i]]"
   ]
  },
  {
   "cell_type": "code",
   "execution_count": 273,
   "id": "8b8f442e",
   "metadata": {},
   "outputs": [],
   "source": [
    "n = 200\n",
    "indice = random.sample(range(45*10*n*n), 100000)\n",
    "indice = torch.tensor(indice)\n",
    "id_b1 = indice.div(10*n, rounding_mode=\"floor\")\n",
    "id_b2 = torch.remainder(indice,10*n)\n",
    "diff = out_3[id_b1]-out_3[id_b2+45*n]\n",
    "diff_3no_iso = torch.ones(100000)\n",
    "val, ind = torch.max(torch.abs(diff),dim=1)\n",
    "for i in range(100000):\n",
    "    diff_3no_iso[i] = diff[i][ind[i]]"
   ]
  },
  {
   "cell_type": "code",
   "execution_count": 373,
   "id": "45eb3a58",
   "metadata": {},
   "outputs": [
    {
     "data": {
      "image/png": "[encoded data removed]",
      "text/plain": [
       "<Figure size 360x360 with 1 Axes>"
      ]
     },
     "metadata": {
      "needs_background": "light"
     },
     "output_type": "display_data"
    }
   ],
   "source": [
    "fig = plt.figure(figsize=(5,5))\n",
    "plt.rcParams.update({'font.size': 15})\n",
    "plt.rc('axes', titlesize=20)\n",
    "plt.rc('axes', labelsize=25) \n",
    "matplotlib.rc('xtick', labelsize=13)\n",
    "matplotlib.rc('ytick', labelsize=13)\n",
    "plt.rc('legend', fontsize=13) \n",
    "plt.hist(diff_1no_iso.detach().numpy(),density=True,bins=15)\n",
    "plt.hist(diff_2no_iso.detach().numpy(),density=True,bins=15)\n",
    "plt.hist(diff_3no_iso.detach().numpy(),density=True,bins=15)\n",
    "plt.ticklabel_format(style='sci', axis='x', scilimits=(0,0))\n",
    "plt.xlim([-0.06,-0.03])\n",
    "plt.title('(f)')\n",
    "plt.xlabel(r'$\\Delta^\\bullet_{non-iso}$')\n",
    "plt.legend([r'$N^{te}$=200',r'$N^{te}$=2000',r'$N^{te}$=20000'])\n",
    "plt.tight_layout()\n",
    "plt.savefig('conv-noniso.pdf', format='pdf')\n",
    "plt.show() "
   ]
  },
  {
   "cell_type": "code",
   "execution_count": 292,
   "id": "65e2e5b2",
   "metadata": {},
   "outputs": [],
   "source": [
    "model = SAGE(1,5,5,3,0)#.to(device)\n",
    "torch.manual_seed(99)\n",
    "model.reset_parameters()"
   ]
  },
  {
   "cell_type": "code",
   "execution_count": 175,
   "id": "6b82bc2d",
   "metadata": {},
   "outputs": [
    {
     "name": "stdout",
     "output_type": "stream",
     "text": [
      "tensor(0.1054, grad_fn=<MaxBackward1>)\n",
      "tensor(0.0456, grad_fn=<MaxBackward1>)\n",
      "tensor(0.0377, grad_fn=<MaxBackward1>)\n",
      "tensor(0.0226, grad_fn=<MaxBackward1>)\n",
      "tensor(0.0189, grad_fn=<MaxBackward1>)\n",
      "tensor(0.0147, grad_fn=<MaxBackward1>)\n",
      "tensor(0.0111, grad_fn=<MaxBackward1>)\n",
      "tensor(0.0084, grad_fn=<MaxBackward1>)\n",
      "tensor(0.0058, grad_fn=<MaxBackward1>)\n"
     ]
    }
   ],
   "source": [
    "# untrained gMPNN\n",
    "import numpy as np\n",
    "nodes_nums = [2**5, 2**6, 2**7, 2**8, 2**9, 2**10, 2**11, 2**12, 2**13]\n",
    "l1error = torch.ones(9)\n",
    "probs = [[0.55, 0.05, 0.02], [0.05, 0.55, 0.05], [0.02, 0.05, 0.55]]\n",
    "idddddd = 0\n",
    "model.eval()\n",
    "for n in nodes_nums:\n",
    "    sizes = [int(0.45*n), int(0.1*n), int(0.45*n)]\n",
    "    g = nx.stochastic_block_model(sizes, probs, seed=36)\n",
    "    data = from_networkx(g)\n",
    "    #data.x = data.x.to(device)\n",
    "    num_nodes = g.number_of_nodes()\n",
    "    data.x = torch.zeros(num_nodes, 1)\n",
    "    for i in range(num_nodes):\n",
    "        data.x[i] = g.degree[i]/num_nodes\n",
    "    #data.x[:(45*n)] = 0.5*0.45+0.05*0.1+0.45*0.02\n",
    "    #data.x[(55*n):] = 0.5*0.45+0.05*0.1+0.45*0.02\n",
    "    #data.x[(45*n):(55*n)] = 0.05*0.45*2+0.65*0.1\n",
    "    adj = SparseTensor(row=data.edge_index[0], col=data.edge_index[1],sparse_sizes=(num_nodes, num_nodes))\n",
    "    adj_t = adj.t()#.to(device)\n",
    "    out_n = model(data.x, adj_t)\n",
    "    out_cn = torch.cat((out_c[0].repeat(int(0.45*n),1), out_c[1].repeat(int(0.1*n),1), out_c[0].repeat(int(0.45*n),1)),dim=0)\n",
    "    diff = out_n-out_cn\n",
    "    l1error[idddddd] = torch.max(torch.abs(diff))\n",
    "    print(torch.max(torch.abs(diff)))\n",
    "    idddddd += 1"
   ]
  },
  {
   "cell_type": "code",
   "execution_count": 176,
   "id": "5c8f2818",
   "metadata": {},
   "outputs": [
    {
     "data": {
      "text/plain": [
       "tensor([0.1054, 0.0456, 0.0377, 0.0226, 0.0189, 0.0147, 0.0111, 0.0084, 0.0058],\n",
       "       grad_fn=<CopySlices>)"
      ]
     },
     "execution_count": 176,
     "metadata": {},
     "output_type": "execute_result"
    }
   ],
   "source": [
    "l1error"
   ]
  },
  {
   "cell_type": "code",
   "execution_count": 374,
   "id": "6d64edcb",
   "metadata": {},
   "outputs": [
    {
     "data": {
      "image/png": "[encoded data removed]",
      "text/plain": [
       "<Figure size 360x360 with 1 Axes>"
      ]
     },
     "metadata": {
      "needs_background": "light"
     },
     "output_type": "display_data"
    }
   ],
   "source": [
    "import matplotlib \n",
    "fig = plt.figure(figsize=(5,5))\n",
    "plt.rcParams.update({'font.size': 15})\n",
    "plt.rc('axes', titlesize=20)\n",
    "plt.rc('axes', labelsize=25) \n",
    "matplotlib.rc('xtick', labelsize=13)\n",
    "matplotlib.rc('ytick', labelsize=13)\n",
    "plt.rc('legend', fontsize=17) \n",
    "nodes_nums = [2**5, 2**6, 2**7, 2**8, 2**9, 2**10, 2**11, 2**12, 2**13]\n",
    "plt.plot(np.log10(nodes_nums),np.log10(l1error.detach().numpy()))\n",
    "plt.xlabel(r'$log_{10}(N^{te})$')\n",
    "plt.ylabel(r'$\\log_{10}(\\delta^{\\bullet}_{A-W})$')\n",
    "plt.title('(a)')\n",
    "plt.tight_layout()\n",
    "plt.savefig('conv-gmpnn.pdf', format='pdf')"
   ]
  },
  {
   "cell_type": "code",
   "execution_count": 202,
   "id": "caaefe4e",
   "metadata": {},
   "outputs": [
    {
     "name": "stdout",
     "output_type": "stream",
     "text": [
      "tensor([0.5494, 0.5494, 0.5494, 0.5494, 0.5494, 0.5494, 0.5494, 0.5494, 0.5494,\n",
      "        0.0570, 0.0570, 0.0228, 0.0228, 0.0228, 0.0228, 0.0228, 0.0228, 0.0228,\n",
      "        0.0228, 0.0228])\n"
     ]
    }
   ],
   "source": [
    "# outputs for the cMPNN with fixed \\Psi\n",
    "n_1 = 9\n",
    "n_2 = 2\n",
    "n_3 = 9\n",
    "w1 = torch.cat((torch.ones(int(n_1)) * 0.55, torch.ones(int(n_2)) * 0.05, torch.ones(int(n_3)) * 0.02))\n",
    "w2 = torch.cat((torch.ones(int(n_1)) * 0.05, torch.ones(int(n_2)) * 0.55, torch.ones(int(n_3)) * 0.05))\n",
    "w3 = torch.cat((torch.ones(int(n_1)) * 0.02, torch.ones(int(n_2)) * 0.05, torch.ones(int(n_3)) * 0.55))\n",
    "W = torch.cat((w1.repeat(n_1, 1), w2.repeat(n_2, 1), w3.repeat(n_3, 1)), dim=0)#.to(device)\n",
    "num_nodes = 20\n",
    "f = torch.ones(num_nodes, num_nodes)\n",
    "a = W\n",
    "de_2 = torch.sparse.mm(a,a.t()) #distance\n",
    "for i in range(3):\n",
    "    agg = torch.sparse.mm(a,f.t())\n",
    "    agg = agg+agg.t()\n",
    "    agg = agg/(2*de_2)\n",
    "    f = f/agg\n",
    "print(f[0])"
   ]
  },
  {
   "cell_type": "code",
   "execution_count": 204,
   "id": "1130fb4b",
   "metadata": {},
   "outputs": [
    {
     "name": "stdout",
     "output_type": "stream",
     "text": [
      "tensor(8.9118)\n",
      "tensor(6.6946)\n",
      "tensor(5.4689)\n",
      "tensor(2.5617)\n",
      "tensor(1.0796)\n",
      "tensor(0.8172)\n",
      "tensor(0.5068)\n",
      "tensor(0.3851)\n",
      "tensor(0.3064)\n"
     ]
    }
   ],
   "source": [
    "# fixed 2-gMPNN\n",
    "import numpy as np\n",
    "nodes_nums = [2**5, 2**6, 2**7, 2**8, 2**9, 2**10, 2**11, 2**12, 2**13]\n",
    "l1error_joint_new = torch.ones(9)\n",
    "probs = [[0.55, 0.05, 0.02], [0.05, 0.55, 0.05], [0.02, 0.05, 0.55]]\n",
    "idddddd = 0\n",
    "#model.eval()\n",
    "for n in nodes_nums:\n",
    "    n_1 = int(0.45*n)\n",
    "    n_2 = int(0.1*n)\n",
    "    n_3 = n_1\n",
    "    sizes = [n_1,n_2,n_3]\n",
    "    g = nx.stochastic_block_model(sizes, probs,seed=2)\n",
    "    data = from_networkx(g)\n",
    "    num_nodes = g.number_of_nodes()\n",
    "    f = torch.ones(num_nodes, num_nodes).to(device)\n",
    "    a = torch.sparse.FloatTensor(data.edge_index, torch.ones(data.edge_index.size(1)), torch.Size([num_nodes, num_nodes]))\n",
    "    de_2 = torch.sparse.mm(a,a.t()) #distance\n",
    "    de_2 = ((torch.ones(num_nodes, num_nodes)-de_2)>0)+de_2\n",
    "    de_2 = de_2.to(device)\n",
    "    a = a.to(device)\n",
    "    for i in range(3):\n",
    "        agg = torch.sparse.mm(a,f.t())\n",
    "        agg = agg+agg.t()\n",
    "        agg = agg/(2*de_2)\n",
    "        f = f/agg\n",
    "    f.fill_diagonal_(1.0)\n",
    "    f = f.cpu()\n",
    "    #Calculated 2-cMPNN result\n",
    "    w1 = torch.cat((torch.ones(int(n_1))*0.5494,torch.ones(int(n_2))*0.0570,torch.ones(int(n_3))*0.0228))\n",
    "    w2 = torch.cat((torch.ones(int(n_1))*0.0570,torch.ones(int(n_2))*0.5323,torch.ones(int(n_3))*0.0570))\n",
    "    w3 = torch.cat((torch.ones(int(n_1))*0.0228,torch.ones(int(n_2))*0.0570,torch.ones(int(n_3))*0.5494))\n",
    "    W = torch.cat((w1.repeat(n_1,1),w2.repeat(n_2,1),w3.repeat(n_3,1)),dim=0)\n",
    "    W.fill_diagonal_(1.0)\n",
    "    W = W\n",
    "    diff = f-W\n",
    "    l1error_joint_new[idddddd] = torch.max(torch.abs(diff))\n",
    "    print(torch.max(torch.abs(diff)))\n",
    "    idddddd += 1"
   ]
  },
  {
   "cell_type": "code",
   "execution_count": 205,
   "id": "1954e7c6",
   "metadata": {},
   "outputs": [
    {
     "data": {
      "text/plain": [
       "tensor([8.9118, 6.6946, 5.4689, 2.5617, 1.0796, 0.8172, 0.5068, 0.3851, 0.3064])"
      ]
     },
     "execution_count": 205,
     "metadata": {},
     "output_type": "execute_result"
    }
   ],
   "source": [
    "l1error_joint_new"
   ]
  },
  {
   "cell_type": "code",
   "execution_count": 375,
   "id": "7c847ac2",
   "metadata": {},
   "outputs": [
    {
     "data": {
      "image/png": "[encoded data removed]",
      "text/plain": [
       "<Figure size 360x360 with 1 Axes>"
      ]
     },
     "metadata": {
      "needs_background": "light"
     },
     "output_type": "display_data"
    }
   ],
   "source": [
    "import matplotlib \n",
    "fig = plt.figure(figsize=(5,5))\n",
    "plt.rcParams.update({'font.size': 15})\n",
    "plt.rc('axes', titlesize=20)\n",
    "plt.rc('axes', labelsize=25) \n",
    "matplotlib.rc('xtick', labelsize=13)\n",
    "matplotlib.rc('ytick', labelsize=13)\n",
    "plt.rc('legend', fontsize=17) \n",
    "nodes_nums = [2**5, 2**6, 2**7, 2**8, 2**9, 2**10, 2**11, 2**12, 2**13]\n",
    "plt.plot(np.log10(nodes_nums),np.log10(l1error_joint_new.detach().numpy()))\n",
    "plt.xlabel(r'$log_{10}(N^{te})$')\n",
    "plt.ylabel(r'$\\log_{10}(\\delta^{\\bullet \\bullet}_{A-W})$')\n",
    "plt.title('(b)')\n",
    "plt.tight_layout()\n",
    "plt.savefig('conv-2gmpnn.pdf', format='pdf')"
   ]
  },
  {
   "cell_type": "code",
   "execution_count": 210,
   "id": "213df689",
   "metadata": {},
   "outputs": [],
   "source": [
    "class jgMPNN(torch.nn.Module):\n",
    "    def __init__(self, in_channels=1, hidden_channels=5, out_channels=1):\n",
    "        super(jgMPNN, self).__init__()\n",
    "        self.hid = hidden_channels\n",
    "        self.nn1 = torch.nn.Linear(in_channels+in_channels, hidden_channels)\n",
    "        self.nn2 = torch.nn.Linear(2*hidden_channels, out_channels)\n",
    "\n",
    "    def reset_parameters(self):\n",
    "        self.nn1.reset_parameters()\n",
    "        self.nn2.reset_parameters()\n",
    "\n",
    "    def forward(self, a, num_nodes, f, de_2, use_w=False):\n",
    "        agg = torch.sparse.mm(a.t(), f)\n",
    "        agg = agg + agg.t()\n",
    "        agg = agg / (2 * de_2)\n",
    "        f = f.reshape(-1,1)\n",
    "        agg = agg.reshape(-1, 1)\n",
    "        if self.hid > 1:\n",
    "            f = self.nn1(torch.cat((f, agg), dim=1)).reshape(num_nodes, num_nodes, self.hid)\n",
    "            f = F.relu(f)\n",
    "            if not use_w:\n",
    "                a = a.to_dense()\n",
    "            agg = torch.einsum('iz,jzk->ijk', a.t(), f)\n",
    "            agg += torch.einsum('izk,jz->ijk', f, a)\n",
    "            #de_2 = de_2.to_dense()\n",
    "            agg = agg/(de_2.reshape(num_nodes, num_nodes, 1).repeat(1, 1, self.hid))\n",
    "        else:\n",
    "            f = self.nn1(torch.cat((f, agg), dim=1)).reshape(num_nodes, num_nodes)\n",
    "            f = F.relu(f)\n",
    "            agg = torch.sparse.mm(a.t(), f)\n",
    "            agg = agg + agg.t()\n",
    "            agg = agg / (2 * de_2)\n",
    "        f = f.reshape(-1, self.hid)\n",
    "        agg = agg.reshape(-1, self.hid)\n",
    "        f = self.nn2(torch.cat((f,agg),dim=1)).reshape(num_nodes, num_nodes)\n",
    "        f = torch.sigmoid(f)\n",
    "        return f"
   ]
  },
  {
   "cell_type": "code",
   "execution_count": 221,
   "id": "fb583d2f",
   "metadata": {},
   "outputs": [
    {
     "name": "stdout",
     "output_type": "stream",
     "text": [
      "tensor([0.0145, 0.0145, 0.0145, 0.0145, 0.0145, 0.0145, 0.0145, 0.0145, 0.0145,\n",
      "        0.0000, 0.0000, 0.0000, 0.0000, 0.0000, 0.0000, 0.0000, 0.0000, 0.0000,\n",
      "        0.0000, 0.0000], grad_fn=<SelectBackward0>)\n",
      "tensor([0.0000e+00, 0.0000e+00, 0.0000e+00, 0.0000e+00, 0.0000e+00, 0.0000e+00,\n",
      "        0.0000e+00, 0.0000e+00, 0.0000e+00, 1.2510e-08, 1.2510e-08, 0.0000e+00,\n",
      "        0.0000e+00, 0.0000e+00, 0.0000e+00, 0.0000e+00, 0.0000e+00, 0.0000e+00,\n",
      "        0.0000e+00, 0.0000e+00], grad_fn=<SelectBackward0>)\n"
     ]
    }
   ],
   "source": [
    "device = 'cpu'\n",
    "#device = 'cuda' if torch.cuda.is_available() else 'cpu'\n",
    "model = jgMPNN().to(device)\n",
    "torch.manual_seed(99)\n",
    "model.reset_parameters()\n",
    "num_nodes = 20\n",
    "n_1 = int(0.45*num_nodes)\n",
    "n_2 = int(0.1*num_nodes)\n",
    "n_3 = n_1\n",
    "w1 = torch.cat((torch.ones(int(n_1))*0.55,torch.ones(int(n_2))*0.05,torch.ones(int(n_1))*0.02))\n",
    "w2 = torch.cat((torch.ones(int(n_1))*0.05,torch.ones(int(n_2))*0.55,torch.ones(int(n_1))*0.05))\n",
    "w3 = torch.cat((torch.ones(int(n_1))*0.02,torch.ones(int(n_2))*0.05,torch.ones(int(n_1))*0.55))\n",
    "W = torch.cat((w1.repeat(int(n_1),1),w2.repeat(int(n_2),1),w3.repeat(int(n_1),1)),dim=0).to(device)\n",
    "de_2 = torch.sparse.mm(W,W.t()).to(device)\n",
    "#de_2 = torch.sparse.mm(W,W.t()) #distance\n",
    "w = torch.ones(num_nodes,num_nodes).to(device)\n",
    "W_new = model(W, num_nodes, w, de_2, use_w=True)\n",
    "print(W_new[0])\n",
    "print(W_new[10])"
   ]
  },
  {
   "cell_type": "code",
   "execution_count": 224,
   "id": "4e0bc083",
   "metadata": {},
   "outputs": [
    {
     "name": "stdout",
     "output_type": "stream",
     "text": [
      "tensor(0.2850, grad_fn=<MaxBackward1>)\n",
      "tensor(0.1341, grad_fn=<MaxBackward1>)\n",
      "tensor(0.1658, grad_fn=<MaxBackward1>)\n",
      "tensor(0.1040, grad_fn=<MaxBackward1>)\n",
      "tensor(0.0870, grad_fn=<MaxBackward1>)\n",
      "tensor(0.0383, grad_fn=<MaxBackward1>)\n",
      "tensor(0.0263, grad_fn=<MaxBackward1>)\n",
      "tensor(0.0170, grad_fn=<MaxBackward1>)\n",
      "tensor(0.0116, grad_fn=<MaxBackward1>)\n"
     ]
    }
   ],
   "source": [
    "import numpy as np\n",
    "nodes_nums = [2**5, 2**6, 2**7, 2**8, 2**9, 2**10, 2**11, 2**12, 2**13]\n",
    "#nodes_nums = [2**9, 2**10]\n",
    "#nodes_nums = [2**10, 2**11, 2**12, 2**13]\n",
    "l1error_joint_learn = torch.ones(9)\n",
    "probs = [[0.55, 0.05, 0.02], [0.05, 0.55, 0.05], [0.02, 0.05, 0.55]]\n",
    "idddddd = 0\n",
    "model = jgMPNN().to(device)\n",
    "torch.manual_seed(99)\n",
    "model.reset_parameters()\n",
    "for n in nodes_nums:\n",
    "    n_1 = int(0.45*n)\n",
    "    n_2 = int(0.1*n)\n",
    "    n_3 = n_1\n",
    "    sizes = [n_1,n_2,n_3]\n",
    "    g = nx.stochastic_block_model(sizes, probs,seed=2)\n",
    "    data = from_networkx(g)\n",
    "    num_nodes = g.number_of_nodes()\n",
    "    f = torch.ones(num_nodes, num_nodes).to(device) \n",
    "    a = torch.sparse.FloatTensor(data.edge_index, torch.ones(data.edge_index.size(1)), torch.Size([num_nodes, num_nodes]))\n",
    "    de_2 = torch.sparse.mm(a,a.t()) #distance\n",
    "    de_2 = ((torch.ones(num_nodes, num_nodes)-de_2)>0)+de_2\n",
    "    de_2 = de_2.to(device)\n",
    "    a = a.to(device)\n",
    "    f_new = model(a, num_nodes, f, de_2)\n",
    "    f_new.fill_diagonal_(1.0)\n",
    "    w1 = torch.cat((torch.ones(int(n_1))*0.0145,torch.ones(int(n_2))*0.0,torch.ones(int(n_1))*0.0))\n",
    "    w2 = torch.cat((torch.ones(int(n_1))*0.0,torch.ones(int(n_2))*1.2510e-08,torch.ones(int(n_1))*0.0))\n",
    "    w3 = torch.cat((torch.ones(int(n_1))*0.0,torch.ones(int(n_2))*0.0,torch.ones(int(n_1))*0.0145))\n",
    "    W_new = torch.cat((w1.repeat(int(n_1),1),w2.repeat(int(n_2),1),w3.repeat(int(n_1),1)),dim=0)\n",
    "    W_new.fill_diagonal_(1.0)\n",
    "    l1error_joint_learn[idddddd] = torch.max(torch.abs(f_new-W_new))\n",
    "    print(torch.max(torch.abs(f_new-W_new)))\n",
    "    idddddd += 1"
   ]
  },
  {
   "cell_type": "code",
   "execution_count": 377,
   "id": "ee8c4e7e",
   "metadata": {},
   "outputs": [
    {
     "data": {
      "image/png": "[encoded data removed]",
      "text/plain": [
       "<Figure size 360x360 with 1 Axes>"
      ]
     },
     "metadata": {
      "needs_background": "light"
     },
     "output_type": "display_data"
    }
   ],
   "source": [
    "import matplotlib \n",
    "fig = plt.figure(figsize=(5,5))\n",
    "plt.rcParams.update({'font.size': 15})\n",
    "plt.rc('axes', titlesize=20)\n",
    "plt.rc('axes', labelsize=25) \n",
    "matplotlib.rc('xtick', labelsize=13)\n",
    "matplotlib.rc('ytick', labelsize=13)\n",
    "plt.rc('legend', fontsize=17) \n",
    "nodes_nums = [2**5, 2**6, 2**7, 2**8, 2**9, 2**10, 2**11, 2**12, 2**13]\n",
    "plt.plot(np.log10(nodes_nums),np.log10(l1error_joint_learn.detach().numpy()))\n",
    "plt.xlabel(r'$log_{10}(N^{te})$')\n",
    "plt.ylabel(r'$\\log_{10}(\\delta^{\\bullet \\bullet}_{A-W})$')\n",
    "plt.title('(c)')\n",
    "plt.tight_layout()\n",
    "plt.savefig('conv-2gmpnn-nn.pdf', format='pdf')"
   ]
  },
  {
   "cell_type": "code",
   "execution_count": null,
   "id": "b7f56856",
   "metadata": {},
   "outputs": [],
   "source": []
  }
 ],
 "metadata": {
  "kernelspec": {
   "display_name": "Python 3 (ipykernel)",
   "language": "python",
   "name": "python3"
  },
  "language_info": {
   "codemirror_mode": {
    "name": "ipython",
    "version": 3
   },
   "file_extension": ".py",
   "mimetype": "text/x-python",
   "name": "python",
   "nbconvert_exporter": "python",
   "pygments_lexer": "ipython3",
   "version": "3.9.12"
  }
 },
 "nbformat": 4,
 "nbformat_minor": 5
}
